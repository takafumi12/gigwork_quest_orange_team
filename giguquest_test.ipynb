{
  "nbformat": 4,
  "nbformat_minor": 0,
  "metadata": {
    "colab": {
      "name": "giguquest_test.ipynb",
      "provenance": [],
      "authorship_tag": "ABX9TyNMde6wkO5zzPKc0/ko0Pjb",
      "include_colab_link": true
    },
    "kernelspec": {
      "name": "python3",
      "display_name": "Python 3"
    }
  },
  "cells": [
    {
      "cell_type": "markdown",
      "metadata": {
        "id": "view-in-github",
        "colab_type": "text"
      },
      "source": [
        "<a href=\"https://colab.research.google.com/github/takafumi12/gigwork_quest_orange_team/blob/kotani/giguquest_test.ipynb\" target=\"_parent\"><img src=\"https://colab.research.google.com/assets/colab-badge.svg\" alt=\"Open In Colab\"/></a>"
      ]
    },
    {
      "cell_type": "markdown",
      "metadata": {
        "id": "amsMr1EgEt8i"
      },
      "source": [
        "# test\r\n",
        "# コマンド集\r\n",
        "- Ctrl+ M H でショートカットを表示\r\n",
        "- Ctrl+ M Y でコードセルに変換\r\n",
        "- Ctrl+ M M でコマンドセルに変換\r\n",
        "- Ctrl+ Alt+G でGitにコピーを保存(自分で設定)"
      ]
    },
    {
      "cell_type": "code",
      "metadata": {
        "id": "AYI7CuK4F2tO"
      },
      "source": [
        ""
      ],
      "execution_count": null,
      "outputs": []
    }
  ]
}